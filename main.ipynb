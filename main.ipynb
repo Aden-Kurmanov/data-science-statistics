{
 "cells": [
  {
   "cell_type": "code",
   "execution_count": 4,
   "metadata": {
    "collapsed": true,
    "pycharm": {
     "name": "#%%\n"
    }
   },
   "outputs": [],
   "source": [
    "import numpy as np"
   ]
  },
  {
   "cell_type": "code",
   "execution_count": 26,
   "outputs": [],
   "source": [
    "def combination(n: int, k: int):\n",
    "    return np.math.factorial(n) // (np.math.factorial(k) * np.math.factorial(n - k))"
   ],
   "metadata": {
    "collapsed": false,
    "pycharm": {
     "name": "#%%\n"
    }
   }
  },
  {
   "cell_type": "code",
   "execution_count": 6,
   "outputs": [
    {
     "data": {
      "text/plain": "'Контрольная работа состоит из пяти вопросов.\\nНа каждый вопрос приведено четыре варианта ответа, один из которых правильный.\\nСлучайная величина X задаёт число правильных ответов при простом угадывании.\\nНайдите математическое ожидание данной случайной величины.\\nНайдите дисперсию случайной величины X.\\nПодсказка: постройте закон распределения случайной величины X.'"
     },
     "execution_count": 6,
     "metadata": {},
     "output_type": "execute_result"
    }
   ],
   "source": [
    "# Task 1, 2\n",
    "\"\"\"Контрольная работа состоит из пяти вопросов.\n",
    "На каждый вопрос приведено четыре варианта ответа, один из которых правильный.\n",
    "Случайная величина X задаёт число правильных ответов при простом угадывании.\n",
    "Найдите математическое ожидание данной случайной величины.\n",
    "Найдите дисперсию случайной величины X.\n",
    "Подсказка: постройте закон распределения случайной величины X.\"\"\""
   ],
   "metadata": {
    "collapsed": false,
    "pycharm": {
     "name": "#%%\n"
    }
   }
  },
  {
   "cell_type": "code",
   "execution_count": 27,
   "outputs": [],
   "source": [
    "def bernoulli(k: int):\n",
    "    return combination(n, k) * (p ** k) * ((1 - p) ** (n - k))"
   ],
   "metadata": {
    "collapsed": false,
    "pycharm": {
     "name": "#%%\n"
    }
   }
  },
  {
   "cell_type": "code",
   "execution_count": 22,
   "outputs": [],
   "source": [
    "p = 0.25\n",
    "n = 5\n",
    "x = np.arange(0, 6)"
   ],
   "metadata": {
    "collapsed": false,
    "pycharm": {
     "name": "#%%\n"
    }
   }
  },
  {
   "cell_type": "code",
   "execution_count": 28,
   "outputs": [
    {
     "name": "stdout",
     "output_type": "stream",
     "text": [
      "[0.2373046875, 0.3955078125, 0.263671875, 0.087890625, 0.0146484375, 0.0009765625]\n"
     ]
    }
   ],
   "source": [
    "probabilities = []\n",
    "\n",
    "for val in x:\n",
    "    probabilities.append(bernoulli(val))\n",
    "print(probabilities)"
   ],
   "metadata": {
    "collapsed": false,
    "pycharm": {
     "name": "#%%\n"
    }
   }
  },
  {
   "cell_type": "code",
   "execution_count": 31,
   "outputs": [
    {
     "data": {
      "text/plain": "0.9375"
     },
     "execution_count": 31,
     "metadata": {},
     "output_type": "execute_result"
    }
   ],
   "source": [
    "m_x = (x * probabilities).sum()\n",
    "m_x_2 = ((x ** 2) * probabilities).sum()\n",
    "d_x = m_x_2 - m_x ** 2\n",
    "d_x"
   ],
   "metadata": {
    "collapsed": false,
    "pycharm": {
     "name": "#%%\n"
    }
   }
  },
  {
   "cell_type": "code",
   "execution_count": null,
   "outputs": [],
   "source": [
    "# Task 3\n",
    "\"\"\"Пользователь получает в среднем 10 писем со спамом на свой почтовый ящик за сутки.\n",
    "Найти число N, такое, что с вероятностью 0.95 пользователь получит не более N писем со спамом за текущий день.\"\"\""
   ],
   "metadata": {
    "collapsed": false,
    "pycharm": {
     "name": "#%%\n"
    }
   }
  },
  {
   "cell_type": "code",
   "execution_count": 64,
   "outputs": [],
   "source": [
    "def poisson(k: int):\n",
    "    return (10 ** k) * (np.exp(-10)) / np.math.factorial(k)"
   ],
   "metadata": {
    "collapsed": false,
    "pycharm": {
     "name": "#%%\n"
    }
   }
  },
  {
   "cell_type": "code",
   "execution_count": 74,
   "outputs": [
    {
     "name": "stdout",
     "output_type": "stream",
     "text": [
      "Не более 15 писем с вероятностью: 0.951214196766259\n"
     ]
    }
   ],
   "source": [
    "prob = 0\n",
    "k = 0\n",
    "\n",
    "need_prob = 0.95\n",
    "\n",
    "while True:\n",
    "    k += 1\n",
    "    prob += poisson(k)\n",
    "\n",
    "    if prob >= need_prob:\n",
    "        break\n",
    "\n",
    "print(f\"Не более {k} писем с вероятностью: {prob}\")"
   ],
   "metadata": {
    "collapsed": false,
    "pycharm": {
     "name": "#%%\n"
    }
   }
  },
  {
   "cell_type": "code",
   "execution_count": 1,
   "outputs": [],
   "source": [
    "# Task 4\n",
    "\"\"\"Производятся выстрелы по мишени.\n",
    "Вероятность попадания в мишень при одном выстреле равна 0.01.\n",
    "Сколько выстрелов нужно сделать чтобы быть уверенным с вероятностью 0.9, что хотя бы 6 раз будет совершено попадание?\n",
    "Подсказка: 1) \"Вероятность попасть k раз при n выстрелах\" - на какое распределение это похоже?\n",
    "2) А если нам нужна вероятность P(X >= k), а не P(X = k)? 3) Здесь предстоит немножко покодить.\n",
    "\"\"\""
   ],
   "metadata": {
    "collapsed": false,
    "pycharm": {
     "name": "#%%\n"
    }
   }
  }
 ],
 "metadata": {
  "kernelspec": {
   "display_name": "Python 3",
   "language": "python",
   "name": "python3"
  },
  "language_info": {
   "codemirror_mode": {
    "name": "ipython",
    "version": 2
   },
   "file_extension": ".py",
   "mimetype": "text/x-python",
   "name": "python",
   "nbconvert_exporter": "python",
   "pygments_lexer": "ipython2",
   "version": "2.7.6"
  }
 },
 "nbformat": 4,
 "nbformat_minor": 0
}