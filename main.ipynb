{
 "cells": [
  {
   "cell_type": "code",
   "execution_count": 33,
   "outputs": [],
   "source": [
    "import math"
   ],
   "metadata": {
    "collapsed": false,
    "pycharm": {
     "name": "#%%\n"
    }
   }
  },
  {
   "cell_type": "code",
   "execution_count": 34,
   "outputs": [
    {
     "data": {
      "text/plain": "47.34795214"
     },
     "execution_count": 34,
     "metadata": {},
     "output_type": "execute_result"
    }
   ],
   "source": [
    "# Task 1\n",
    "# Даны значения зарплат из выборки выпускников:\n",
    "# 100, 80, 75, 77, 89, 33, 45, 25, 65, 17, 30, 230, 24, 57, 55, 70, 75, 65, 84, 90, 150\n",
    "# Используя только встроенные питоновские функции и структуры данных (т.е. без библиотек numpy, pandas и др.),\n",
    "# посчитайте (несмещённое) среднее квадратичное отклонение для данной выборки.\n",
    "# Ответ: 47.34795214\n",
    "\n",
    "salaries = list([100, 80, 75, 77, 89, 33, 45, 25, 65, 17, 30, 230, 24, 57, 55, 70, 75, 65, 84, 90, 150])\n",
    "n = len(salaries)\n",
    "x_mean = sum(salaries) / n\n",
    "\n",
    "answer_1 = round(math.sqrt(sum(list([((val - x_mean) ** 2) for val in salaries])) / (n - 1)), 8)\n",
    "answer_1"
   ],
   "metadata": {
    "collapsed": false,
    "pycharm": {
     "name": "#%%\n"
    }
   }
  },
  {
   "cell_type": "code",
   "execution_count": 38,
   "outputs": [
    {
     "name": "stdout",
     "output_type": "stream",
     "text": [
      "[17, 24, 25, 30, 33, 45, 55, 57, 65, 65, 70, 75, 75, 77, 80, 84, 89, 90, 100, 150, 230]\n"
     ]
    }
   ],
   "source": [
    " # Task 2\n",
    "# Найдите число выбросов в выборке из задачи 1.\n",
    "# Для определения выбросов используйте методику как при построении “усов” в boxplot,\n",
    "# однако, как и в задаче 1, пользоваться можно только встроенными функциями и структурами данных.\n",
    "# Ответ: 2\n",
    "\n",
    "salaries = sorted(salaries)\n",
    "print(salaries)"
   ],
   "metadata": {
    "collapsed": false,
    "pycharm": {
     "name": "#%%\n"
    }
   }
  },
  {
   "cell_type": "code",
   "execution_count": 77,
   "outputs": [
    {
     "data": {
      "text/plain": "(-13.5, 142.5)"
     },
     "execution_count": 77,
     "metadata": {},
     "output_type": "execute_result"
    }
   ],
   "source": [
    "import pandas as pd\n",
    "\n",
    "pd_salaries = pd.DataFrame(data=salaries)\n",
    "q1_pd = pd_salaries.quantile(0.25)\n",
    "q2_pd = pd_salaries.quantile(0.5)\n",
    "q3_pd = pd_salaries.quantile(0.75)\n",
    "\n",
    "quarter = len(salaries) // 4\n",
    "q1 = salaries[quarter]\n",
    "q2 = salaries[quarter * 2]\n",
    "q3 = salaries[quarter * 3]\n",
    "\n",
    "iqr = q3 - q1\n",
    "\n",
    "out = (q1 - 1.5 * iqr, q3 + 1.5 * iqr)\n",
    "out"
   ],
   "metadata": {
    "collapsed": false,
    "pycharm": {
     "name": "#%%\n"
    }
   }
  },
  {
   "cell_type": "code",
   "execution_count": 79,
   "outputs": [
    {
     "data": {
      "text/plain": "([150, 230], 2)"
     },
     "execution_count": 79,
     "metadata": {},
     "output_type": "execute_result"
    }
   ],
   "source": [
    "answer_2 = []\n",
    "for i in range(len(salaries)):\n",
    "    if salaries[i] < out[0] or salaries[i] > out[1]:\n",
    "        answer_2.append(salaries[i])\n",
    "answer_2, len(answer_2)"
   ],
   "metadata": {
    "collapsed": false,
    "pycharm": {
     "name": "#%%\n"
    }
   }
  }
 ],
 "metadata": {
  "kernelspec": {
   "display_name": "Python 3",
   "language": "python",
   "name": "python3"
  },
  "language_info": {
   "codemirror_mode": {
    "name": "ipython",
    "version": 2
   },
   "file_extension": ".py",
   "mimetype": "text/x-python",
   "name": "python",
   "nbconvert_exporter": "python",
   "pygments_lexer": "ipython2",
   "version": "2.7.6"
  }
 },
 "nbformat": 4,
 "nbformat_minor": 0
}